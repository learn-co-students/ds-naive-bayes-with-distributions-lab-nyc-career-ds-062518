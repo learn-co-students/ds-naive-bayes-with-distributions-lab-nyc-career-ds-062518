{
 "cells": [
  {
   "cell_type": "markdown",
   "metadata": {},
   "source": [
    "# Naive Bayesian Classification with Different Distributions\n",
    "\n",
    "## Problem Statement\n",
    "\n",
    "In this lab, we'll learn to choose the correct Naive Bayesian Classifier based on the distribution of our dataset, and how to use industry-standard tools such as `sklearn` to for Bayesian Classification.  \n",
    "\n",
    "## Objectives\n",
    "\n",
    "* Why we use naive Bayesian Classification, and why non-naive bayesian classification is impractical.\n",
    "* How to select and correctly use `GaussianNB`, `BernoulliNB`, and `MultinomialNB` based on the distribution of the data. \n",
    "* Best practices for feature engineering when using using each flavor of Naive Bayesian Classifier.  "
   ]
  },
  {
   "cell_type": "code",
   "execution_count": 1,
   "metadata": {},
   "outputs": [],
   "source": [
    "import pandas as pd\n",
    "import numpy as np\n",
    "import matplotlib.pyplot as plt\n",
    "import seaborn as sns\n",
    "%matplotlib inline\n",
    "from sklearn.naive_bayes import GaussianNB, BernoulliNB, MultinomialNB\n",
    "from sklearn.model_selection import train_test_split\n",
    "from sklearn.datasets import load_iris\n",
    "from sklearn.metrics import accuracy_score"
   ]
  },
  {
   "cell_type": "markdown",
   "metadata": {},
   "source": [
    "### Why is Bayesian Classification \"Naive\"?\n",
    "\n",
    "In your own words, explain what \"Naive\" means in relation to \"Naive Bayesian Classification\".  What is the benefit of our classifier's Naive assumption?\n",
    "\n",
    "Write your answer below this line:\n",
    "________________________________________________________________________________________________________________________________\n",
    "Bayesian Classifiers are \"Naive\" because they assume independence among predictor variables.  Although the independence assumption may potentially make our classifier less accurate in situations where predictor variables are highly correlated, it is often a necessary evil because the sheer number of conditional probabilities we would need to calculate for a non-naive bayesian approach grows at a crazy rate ($2^{n+1}$ for every binary feature added!)  For example, if our dataset had 3 binary-featured predictor columns, we would need to calculate 16 conditional probabilities.  Additionally, our dataset may not contain examples of every possible combination for each conditional probability, meaning that the requirements for the amount of data we need would also skyrocket.  By assuming independence, we reduce our computational cost down to simply computing the joint conditional probability of the factors, which is just the product of the conditional probability of each our target and each individual factor.  \n",
    "\n",
    "\n",
    "\n"
   ]
  },
  {
   "cell_type": "markdown",
   "metadata": {},
   "source": [
    "### A Brief Introduction to Supervised Learning\n",
    "\n",
    "This lab marks your first exposure to **_Supervised Learning_**--a class of machine learning algorithms that can \"learn\" how to correctly make predictions about data, as long as they have a dataset of examples to train on that contain the actual answers, or \"labels\", that go along with each observation.  \n",
    "\n",
    "Specifically, we'll be using Naive Bayes for **_Classification_**, which allows us to predict the class of something.  The scikit-learn library (sklearn for short!) contains 3 different versions of Naive Bayesian Classifiers we can use to make predictions based on the distributions of the data it contains.  Before we can do that, however, we'll need to prepare our data by splitting it into training and testing sets, so that we can test how accurate our model is likely to be on real world data (since models sometimes have a problem with memorizing training data rather than actually \"learning\" what's needed to make predictions in the real world)."
   ]
  },
  {
   "cell_type": "markdown",
   "metadata": {},
   "source": [
    "### Gaussian Naive Bayesian Classification\n",
    "\n",
    "The `GaussianNB` classifier is best used when the data in the columns we'll use to make predictions is normally distributed.  `sklearn` provides a ready-to-use implementation of this classifier as in their `GaussianNB` object.  We're going to use the `GaussianNB` object to make classifications on the _Iris Dataset_.  \n",
    "\n",
    "The _Iris Dataset_ is a classic dataset used for classification, created by the godfather of (frequentist) statistics, Ronald Fisher.  This dataset is one that is used so often for benchmarking and learning in data science that `sklearn` actually contains a helper function inside of the `sklearn.datasets` module to load the data and the labels. \n",
    "\n",
    "In the cell below:\n",
    "\n",
    "1. Call `load_iris()` and store the results in the `iris` variable.\n",
    "1. the `iris` variable has the data stored in it's `.data` attribute, and the labels stored in the `.target` attribute.  Call `train_test_split()` and pass in `iris.data` as the first parameter and `iris.target` as the second.  "
   ]
  },
  {
   "cell_type": "code",
   "execution_count": 19,
   "metadata": {},
   "outputs": [],
   "source": [
    "iris = load_iris()\n",
    "split = train_test_split(iris.data, iris.target)\n",
    "iris_X_train, iris_X_test, iris_y_train, iris_y_test = split[0], split[1], split[2], split[3]"
   ]
  },
  {
   "cell_type": "markdown",
   "metadata": {},
   "source": [
    "Great! We have now split our data into training and testing sets.  We'll train our model on the data and labels from the training set, and then check the accuracy of our model using the data and labels from our testing set, to ensure that it actually does well on data that it hasn't seen before. \n",
    "\n",
    "Before we begin training our `GaussianNB` classifier, let's explore the Iris Dataset to check if the features are normally distributed or not. The data doesn't have to be perfectly normally distributed, but we'll want to see a general trend towards a bell curve in at least some of the features.  \n",
    "\n",
    "In the cell below:\n",
    "1. Create a DataFrame called `iris_df` out of the data contained in `iris_X_train`.  The names of each feature are stored in `iris.feature_names`, so be sure to pass that attribute in for the `columns` parameter.  \n",
    "1.  Display the head of `iris_df` to ensure that everything loaded correctly. "
   ]
  },
  {
   "cell_type": "code",
   "execution_count": 24,
   "metadata": {
    "scrolled": false
   },
   "outputs": [
    {
     "data": {
      "text/html": [
       "<div>\n",
       "<style scoped>\n",
       "    .dataframe tbody tr th:only-of-type {\n",
       "        vertical-align: middle;\n",
       "    }\n",
       "\n",
       "    .dataframe tbody tr th {\n",
       "        vertical-align: top;\n",
       "    }\n",
       "\n",
       "    .dataframe thead th {\n",
       "        text-align: right;\n",
       "    }\n",
       "</style>\n",
       "<table border=\"1\" class=\"dataframe\">\n",
       "  <thead>\n",
       "    <tr style=\"text-align: right;\">\n",
       "      <th></th>\n",
       "      <th>sepal length (cm)</th>\n",
       "      <th>sepal width (cm)</th>\n",
       "      <th>petal length (cm)</th>\n",
       "      <th>petal width (cm)</th>\n",
       "    </tr>\n",
       "  </thead>\n",
       "  <tbody>\n",
       "    <tr>\n",
       "      <th>0</th>\n",
       "      <td>5.2</td>\n",
       "      <td>3.5</td>\n",
       "      <td>1.5</td>\n",
       "      <td>0.2</td>\n",
       "    </tr>\n",
       "    <tr>\n",
       "      <th>1</th>\n",
       "      <td>4.6</td>\n",
       "      <td>3.4</td>\n",
       "      <td>1.4</td>\n",
       "      <td>0.3</td>\n",
       "    </tr>\n",
       "    <tr>\n",
       "      <th>2</th>\n",
       "      <td>5.6</td>\n",
       "      <td>2.5</td>\n",
       "      <td>3.9</td>\n",
       "      <td>1.1</td>\n",
       "    </tr>\n",
       "    <tr>\n",
       "      <th>3</th>\n",
       "      <td>5.5</td>\n",
       "      <td>4.2</td>\n",
       "      <td>1.4</td>\n",
       "      <td>0.2</td>\n",
       "    </tr>\n",
       "    <tr>\n",
       "      <th>4</th>\n",
       "      <td>5.4</td>\n",
       "      <td>3.4</td>\n",
       "      <td>1.7</td>\n",
       "      <td>0.2</td>\n",
       "    </tr>\n",
       "  </tbody>\n",
       "</table>\n",
       "</div>"
      ],
      "text/plain": [
       "   sepal length (cm)  sepal width (cm)  petal length (cm)  petal width (cm)\n",
       "0                5.2               3.5                1.5               0.2\n",
       "1                4.6               3.4                1.4               0.3\n",
       "2                5.6               2.5                3.9               1.1\n",
       "3                5.5               4.2                1.4               0.2\n",
       "4                5.4               3.4                1.7               0.2"
      ]
     },
     "execution_count": 24,
     "metadata": {},
     "output_type": "execute_result"
    }
   ],
   "source": [
    "import seaborn as sns, numpy as np\n",
    "\n",
    "\n",
    "iris_df = pd.DataFrame(iris_X_train, columns = iris.feature_names)\n",
    "iris_df.head()"
   ]
  },
  {
   "cell_type": "code",
   "execution_count": 28,
   "metadata": {},
   "outputs": [
    {
     "data": {
      "text/plain": [
       "array([[<matplotlib.axes._subplots.AxesSubplot object at 0x11088db38>,\n",
       "        <matplotlib.axes._subplots.AxesSubplot object at 0x1108c8240>],\n",
       "       [<matplotlib.axes._subplots.AxesSubplot object at 0x1109528d0>,\n",
       "        <matplotlib.axes._subplots.AxesSubplot object at 0x11097af60>]],\n",
       "      dtype=object)"
      ]
     },
     "execution_count": 28,
     "metadata": {},
     "output_type": "execute_result"
    },
    {
     "data": {
      "image/png": "[encoded data removed]",
      "text/plain": [
       "<Figure size 432x288 with 4 Axes>"
      ]
     },
     "metadata": {},
     "output_type": "display_data"
    }
   ],
   "source": [
    "iris_df.hist()"
   ]
  },
  {
   "cell_type": "code",
   "execution_count": 27,
   "metadata": {},
   "outputs": [
    {
     "name": "stderr",
     "output_type": "stream",
     "text": [
      "/anaconda3/lib/python3.6/site-packages/matplotlib/axes/_axes.py:6462: UserWarning: The 'normed' kwarg is deprecated, and has been replaced by the 'density' kwarg.\n",
      "  warnings.warn(\"The 'normed' kwarg is deprecated, and has been \"\n"
     ]
    },
    {
     "data": {
      "text/plain": [
       "<matplotlib.axes._subplots.AxesSubplot at 0x1107bba20>"
      ]
     },
     "execution_count": 27,
     "metadata": {},
     "output_type": "execute_result"
    },
    {
     "data": {
      "image/png": "[encoded data removed]",
      "text/plain": [
       "<Figure size 432x288 with 1 Axes>"
      ]
     },
     "metadata": {},
     "output_type": "display_data"
    }
   ],
   "source": [
    "sns.distplot(iris_df['petal length (cm)'])"
   ]
  },
  {
   "cell_type": "markdown",
   "metadata": {},
   "source": [
    "Great! Now, in the cell below, loop through each column in the DataFrame and visualize the distribution of each feature.\n",
    "\n",
    "**_HINT:_** Remember the handy [seaborn function](https://seaborn.pydata.org/generated/seaborn.distplot.html) we made use of in previous labs to easily visualize the distribution of a sample.  Also, remember to create a new `plt.plot()` and also call `plt.show()` on each separate iteration--otherwise, seaborn will plot each distribution on a single graph.  "
   ]
  },
  {
   "cell_type": "code",
   "execution_count": null,
   "metadata": {},
   "outputs": [],
   "source": []
  },
  {
   "cell_type": "markdown",
   "metadata": {},
   "source": [
    "Do any of the features seem normally distributed, or least close to normally distributed? \n",
    "\n",
    "Type your answer below this line:\n",
    "________________________________________________________________________________________________________________________________\n",
    "No feature is perfectly normally distributed, but data perfectly fitting any distribution in the real world is rare.  Sepal Length and Sepal Width both approximate a normal distribution in a very rough sense.  Sepal Length's 1-sigma region is too fat, and the tails are too short, but it's close.  Sepal Width has tails that are more in line with what we expect, but the overall distribution is highly kurtotic.  \n",
    "\n",
    "The distribution and type of this data is a good fit for our `GaussianNB` classifier.  Let's fit a model!\n",
    "\n",
    "In the cell below:\n",
    "\n",
    "1.  Create a `GaussianNB` object.\n",
    "1.  `fit()` the classifier to the iris training data. \n",
    "1.  Use the classifier to make predictions about the data in the iris test set (the data, not the labels) using the `.predict()` method.\n",
    "1.  Use the `accuracy_score()` method from sklearn to check how accurate our `GaussianNB` object's predictions were for data it has not yet seen. "
   ]
  },
  {
   "cell_type": "code",
   "execution_count": 41,
   "metadata": {},
   "outputs": [
    {
     "name": "stdout",
     "output_type": "stream",
     "text": [
      "Testing Accuracy for Iris Dataset with Gaussian Naive Bayesian Classifier: 97.37%\n"
     ]
    }
   ],
   "source": [
    "gaussian_clf = GaussianNB()\n",
    "# iris_X_train, iris_X_test, iris_y_train, iris_y_test\n",
    "\n",
    "# Remember to fit the classifier using the appropriate method!\n",
    "gaussian_clf.fit(iris_X_train, iris_y_train)\n",
    "\n",
    "iris_predictions = gaussian_clf.predict(iris_X_test)\n",
    "iris_testing_accuracy = accuracy_score(iris_y_test, iris_predictions)\n",
    "\n",
    "print(\"Testing Accuracy for Iris Dataset with Gaussian Naive Bayesian Classifier: {:.4}%\".format(iris_testing_accuracy * 100))"
   ]
  },
  {
   "cell_type": "markdown",
   "metadata": {},
   "source": [
    "Great! Our model was able to correctly predict which type of iris each flower was based on the data it was given with over 97% accuracy!\n",
    "\n",
    "### Bernoulli Naive Bayesian Classification\n",
    "\n",
    "The `BernoulliNB` classifier is best used when the predictors in the dataset are binary-featured, or can easily be binned as such.  This usually requires a bit of feature engineering on our part.  For instance, we can easily replace the `male` and `female` values within the Titanic dataset's `Sex` column with boolean values, or with 1 and 0.\n",
    "\n",
    "### Feature Engineering for Bernoulli Classification\n",
    "\n",
    "In order to make the titanic dataset work for a `BernoulliNB` classifier, we're going to need to do some feature engineering.  \n",
    "\n",
    "In the cell below:\n",
    "\n",
    "1. Read in the titanic dataset from `titanic.csv`\n",
    "1. Change the data in the `Sex` column so that all `male` passengers are `0`, and all `female` passengers are `1`.\n",
    "1. Create a new feature called `is_child`.  This feature should contain a `1` for all passengers under the age of `13`, and a `0` for everyone else. \n",
    "1. Create another column called `is_wealthy`.  All passengers with `Pclass==1` should have a `1` for this column, and all other passengers should have a `0`.\n",
    "1. Store the `Survived` column in a variable called `titanic_labels`\n",
    "1. Slice the DataFrame so that it contains only `Sex`, `is_child`, `is_wealthy`, `SibSp`, and `Parch`.\n",
    "1. Use `train_test_split` to split our data into training and testing sets. Pass in sliced dataframe, as well as the `titanic_labels` variable."
   ]
  },
  {
   "cell_type": "code",
   "execution_count": 63,
   "metadata": {},
   "outputs": [
    {
     "data": {
      "text/html": [
       "<div>\n",
       "<style scoped>\n",
       "    .dataframe tbody tr th:only-of-type {\n",
       "        vertical-align: middle;\n",
       "    }\n",
       "\n",
       "    .dataframe tbody tr th {\n",
       "        vertical-align: top;\n",
       "    }\n",
       "\n",
       "    .dataframe thead th {\n",
       "        text-align: right;\n",
       "    }\n",
       "</style>\n",
       "<table border=\"1\" class=\"dataframe\">\n",
       "  <thead>\n",
       "    <tr style=\"text-align: right;\">\n",
       "      <th></th>\n",
       "      <th>PassengerId</th>\n",
       "      <th>Survived</th>\n",
       "      <th>Pclass</th>\n",
       "      <th>Name</th>\n",
       "      <th>Sex</th>\n",
       "      <th>Age</th>\n",
       "      <th>SibSp</th>\n",
       "      <th>Parch</th>\n",
       "      <th>Ticket</th>\n",
       "      <th>Fare</th>\n",
       "      <th>Cabin</th>\n",
       "      <th>Embarked</th>\n",
       "    </tr>\n",
       "  </thead>\n",
       "  <tbody>\n",
       "    <tr>\n",
       "      <th>0</th>\n",
       "      <td>1</td>\n",
       "      <td>0</td>\n",
       "      <td>3</td>\n",
       "      <td>Braund, Mr. Owen Harris</td>\n",
       "      <td>0</td>\n",
       "      <td>22.0</td>\n",
       "      <td>1</td>\n",
       "      <td>0</td>\n",
       "      <td>A/5 21171</td>\n",
       "      <td>7.2500</td>\n",
       "      <td>NaN</td>\n",
       "      <td>S</td>\n",
       "    </tr>\n",
       "    <tr>\n",
       "      <th>1</th>\n",
       "      <td>2</td>\n",
       "      <td>1</td>\n",
       "      <td>1</td>\n",
       "      <td>Cumings, Mrs. John Bradley (Florence Briggs Th...</td>\n",
       "      <td>0</td>\n",
       "      <td>38.0</td>\n",
       "      <td>1</td>\n",
       "      <td>0</td>\n",
       "      <td>PC 17599</td>\n",
       "      <td>71.2833</td>\n",
       "      <td>C85</td>\n",
       "      <td>C</td>\n",
       "    </tr>\n",
       "    <tr>\n",
       "      <th>2</th>\n",
       "      <td>3</td>\n",
       "      <td>1</td>\n",
       "      <td>3</td>\n",
       "      <td>Heikkinen, Miss. Laina</td>\n",
       "      <td>0</td>\n",
       "      <td>26.0</td>\n",
       "      <td>0</td>\n",
       "      <td>0</td>\n",
       "      <td>STON/O2. 3101282</td>\n",
       "      <td>7.9250</td>\n",
       "      <td>NaN</td>\n",
       "      <td>S</td>\n",
       "    </tr>\n",
       "    <tr>\n",
       "      <th>3</th>\n",
       "      <td>4</td>\n",
       "      <td>1</td>\n",
       "      <td>1</td>\n",
       "      <td>Futrelle, Mrs. Jacques Heath (Lily May Peel)</td>\n",
       "      <td>0</td>\n",
       "      <td>35.0</td>\n",
       "      <td>1</td>\n",
       "      <td>0</td>\n",
       "      <td>113803</td>\n",
       "      <td>53.1000</td>\n",
       "      <td>C123</td>\n",
       "      <td>S</td>\n",
       "    </tr>\n",
       "    <tr>\n",
       "      <th>4</th>\n",
       "      <td>5</td>\n",
       "      <td>0</td>\n",
       "      <td>3</td>\n",
       "      <td>Allen, Mr. William Henry</td>\n",
       "      <td>0</td>\n",
       "      <td>35.0</td>\n",
       "      <td>0</td>\n",
       "      <td>0</td>\n",
       "      <td>373450</td>\n",
       "      <td>8.0500</td>\n",
       "      <td>NaN</td>\n",
       "      <td>S</td>\n",
       "    </tr>\n",
       "  </tbody>\n",
       "</table>\n",
       "</div>"
      ],
      "text/plain": [
       "   PassengerId  Survived  Pclass  \\\n",
       "0            1         0       3   \n",
       "1            2         1       1   \n",
       "2            3         1       3   \n",
       "3            4         1       1   \n",
       "4            5         0       3   \n",
       "\n",
       "                                                Name  Sex   Age  SibSp  Parch  \\\n",
       "0                            Braund, Mr. Owen Harris    0  22.0      1      0   \n",
       "1  Cumings, Mrs. John Bradley (Florence Briggs Th...    0  38.0      1      0   \n",
       "2                             Heikkinen, Miss. Laina    0  26.0      0      0   \n",
       "3       Futrelle, Mrs. Jacques Heath (Lily May Peel)    0  35.0      1      0   \n",
       "4                           Allen, Mr. William Henry    0  35.0      0      0   \n",
       "\n",
       "             Ticket     Fare Cabin Embarked  \n",
       "0         A/5 21171   7.2500   NaN        S  \n",
       "1          PC 17599  71.2833   C85        C  \n",
       "2  STON/O2. 3101282   7.9250   NaN        S  \n",
       "3            113803  53.1000  C123        S  \n",
       "4            373450   8.0500   NaN        S  "
      ]
     },
     "execution_count": 63,
     "metadata": {},
     "output_type": "execute_result"
    }
   ],
   "source": [
    "df.head()"
   ]
  },
  {
   "cell_type": "code",
   "execution_count": 94,
   "metadata": {},
   "outputs": [
    {
     "data": {
      "text/plain": [
       "array([[<matplotlib.axes._subplots.AxesSubplot object at 0x11072b780>,\n",
       "        <matplotlib.axes._subplots.AxesSubplot object at 0x1103ac9b0>],\n",
       "       [<matplotlib.axes._subplots.AxesSubplot object at 0x1102ff048>,\n",
       "        <matplotlib.axes._subplots.AxesSubplot object at 0x1a1cef2160>],\n",
       "       [<matplotlib.axes._subplots.AxesSubplot object at 0x110377438>,\n",
       "        <matplotlib.axes._subplots.AxesSubplot object at 0x110377400>]],\n",
       "      dtype=object)"
      ]
     },
     "execution_count": 94,
     "metadata": {},
     "output_type": "execute_result"
    },
    {
     "data": {
      "image/png": "[encoded data removed]",
      "text/plain": [
       "<Figure size 432x288 with 6 Axes>"
      ]
     },
     "metadata": {},
     "output_type": "display_data"
    }
   ],
   "source": [
    "df = pd.read_csv('titanic.csv')\n",
    "df['Sex'] = df['Sex'].replace('male',0).replace('female',0)\n",
    "df['is_child'] = (df['Age']<13).astype(int)\n",
    "df['is_wealthy'] = (df['Pclass']==1).astype(int)\n",
    "titanic_labels = df['Survived']\n",
    "sliced_df = df.filter(['Sex','is_child','is_wealthy','SibSp','Parch'],axis = 1)\n",
    "split = train_test_split(sliced_df, titanic_labels)\n",
    "bernoulli_X_train, bernoulli_X_test, bernoulli_y_train, bernoulli_y_test = split[0], split[1], split[2],split[3]\n",
    "sliced_df.hist()"
   ]
  },
  {
   "cell_type": "markdown",
   "metadata": {},
   "source": [
    "Now that we have successfully prepared our data, let's create, fit, and make predictions with a `BernoulliNB` classifier!\n",
    "\n",
    "In the cell below:\n",
    "\n",
    "1. Create a `BernoulliNB()` object and store it in the appropriate variable.  \n",
    "1.  Call our `BernoulliNB`'s `fit()` method on `X_train` and `y_train`.\n",
    "1.  Use the fitted classifier to make predictions for the data stored in `X_test`.\n",
    "1.  Use the `accuracy_score` method to check our classifier's testing accuracy by passing in the predictions for `X_test` as well as the true labels, which are stored in `y_test`."
   ]
  },
  {
   "cell_type": "code",
   "execution_count": 95,
   "metadata": {},
   "outputs": [
    {
     "name": "stdout",
     "output_type": "stream",
     "text": [
      "Accuracy on Testing Set from BernoulliNB Classifier: 70.4%\n"
     ]
    }
   ],
   "source": [
    "bernoulli_clf = BernoulliNB()\n",
    "# remember to fit this classifier using the appropriate method!\n",
    "bernoulli_clf.fit(bernoulli_X_train, bernoulli_y_train)\n",
    "\n",
    "\n",
    "bernoulli_preds = bernoulli_clf.predict(bernoulli_X_test)\n",
    "bernoulli_accuracy = accuracy_score(bernoulli_y_test, bernoulli_preds)\n",
    "print(\"Accuracy on Testing Set from BernoulliNB Classifier: {:.4}%\".format(bernoulli_accuracy * 100))"
   ]
  },
  {
   "cell_type": "markdown",
   "metadata": {},
   "source": [
    "With only the gender of the passenger and some information about whether or not the passenger is wealthy and/or a child, our `BernoulliNB` classifier was able to predict passenger survival with ~76% accuracy!\n",
    "\n",
    "### Multinomial Naive Bayesian Classification\n",
    "\n",
    "The **_Multinomial Naive Bayesian Classifier_** is best used for when the predictors in our dataset contain (non-binary) categorical features.  Note that this classifier cannot handle negative values! If you dataset contains even one negative value in it, this classifier will throw an error.  For this classifier, we're going to use the titanic dataset, but without all the extra feature engineering.  \n",
    "\n",
    "In the cell below:\n",
    " \n",
    "1. Clean the `df` DataFrame so that it only contains the `Pclass`, `Survived`, `Sex`, `Age`, `SibSp`, `Parch`, `Fare`, and `Embarked` classes.\n",
    "1. Drop any rows containing null values. \n",
    "1. Store `Survived` in a separate variable and then remove it from the `df` dataset.\n",
    "1. Map each string value in the `Embarked` column to an integer.  (`\"S\"`=`1`, `\"C\"`=2, `\"Q\"`=3)\n",
    "1. Print out the number of `NaN`s in each column to ensure that we have eliminated them all.  "
   ]
  },
  {
   "cell_type": "code",
   "execution_count": 185,
   "metadata": {},
   "outputs": [],
   "source": [
    "clean_df = df.filter(['Pclass', 'Survived', 'Sex', 'Age', 'SibSp', 'Parch', 'Fare', 'Embarked'])\n",
    "clean_df = clean_df.dropna()\n",
    "Survived = clean_df['Survived']\n",
    "clean_df = clean_df.drop(columns = 'Survived')\n",
    "#print(clean_df.isna().sum())\n",
    "clean_df['Embarked'] = clean_df['Embarked'].replace('S',1).replace('C', 2).replace('Q',3)\n",
    "multinomial_nb_labels = Survived"
   ]
  },
  {
   "cell_type": "markdown",
   "metadata": {},
   "source": [
    "Now, let's transform our `Age` data from integer values into categorical values.  In the cell below:\n",
    "\n",
    "1. Complete the `bin_ages()` function.  This function should take in the `Age` column, and return a binned representation of this data.  The ages should be binned in 10 year increments. For example, a 7 year-old passenger should have a `binned_age` value of `0`, while a 42 year-old passenger should have a `Binned_Age` value of `4`.\n",
    "1. Use the `bin_ages()` function to create a `Binned_Ages` column in `clean_df`, and then drop the `Age` column.  \n",
    "1. Create training and testing sets using `clean_df` and `multinomial_labels`."
   ]
  },
  {
   "cell_type": "code",
   "execution_count": 189,
   "metadata": {},
   "outputs": [
    {
     "data": {
      "text/plain": [
       "[     Pclass  Sex    Age  SibSp  Parch      Fare  Embarked  Binned_Ages\n",
       " 848       2    0  28.00      0      1   33.0000         1         20.0\n",
       " 116       3    0  70.50      0      0    7.7500         3         70.0\n",
       " 39        3    0  14.00      1      0   11.2417         2         10.0\n",
       " 387       2    0  36.00      0      0   13.0000         1         30.0\n",
       " 472       2    0  33.00      1      2   27.7500         1         30.0\n",
       " 537       1    0  30.00      0      0  106.4250         2         30.0\n",
       " 509       3    0  26.00      0      0   56.4958         1         20.0\n",
       " 326       3    0  61.00      0      0    6.2375         1         60.0\n",
       " 749       3    0  31.00      0      0    7.7500         3         30.0\n",
       " 52        1    0  49.00      1      0   76.7292         2         40.0\n",
       " 867       1    0  31.00      0      0   50.4958         1         30.0\n",
       " 57        3    0  28.50      0      0    7.2292         2         20.0\n",
       " 2         3    0  26.00      0      0    7.9250         1         20.0\n",
       " 58        2    0   5.00      1      2   27.7500         1          0.0\n",
       " 882       3    0  22.00      0      0   10.5167         1         20.0\n",
       " 644       3    0   0.75      2      1   19.2583         2          0.0\n",
       " 523       1    0  44.00      0      1   57.9792         2         40.0\n",
       " 33        2    0  66.00      0      0   10.5000         1         60.0\n",
       " 665       2    0  32.00      2      0   73.5000         1         30.0\n",
       " 562       2    0  28.00      0      0   13.5000         1         20.0\n",
       " 677       3    0  18.00      0      0    9.8417         1         10.0\n",
       " 885       3    0  39.00      0      5   29.1250         3         30.0\n",
       " 75        3    0  25.00      0      0    7.6500         1         20.0\n",
       " 838       3    0  32.00      0      0   56.4958         1         30.0\n",
       " 397       2    0  46.00      0      0   26.0000         1         40.0\n",
       " 824       3    0   2.00      4      1   39.6875         1          0.0\n",
       " 422       3    0  29.00      0      0    7.8750         1         20.0\n",
       " 670       2    0  40.00      1      1   39.0000         1         40.0\n",
       " 123       2    0  32.50      0      0   13.0000         1         30.0\n",
       " 492       1    0  55.00      0      0   30.5000         1         50.0\n",
       " ..      ...  ...    ...    ...    ...       ...       ...          ...\n",
       " 453       1    0  49.00      1      0   89.1042         2         40.0\n",
       " 393       1    0  23.00      1      0  113.2750         2         20.0\n",
       " 775       3    0  18.00      0      0    7.7500         1         10.0\n",
       " 566       3    0  19.00      0      0    7.8958         1         10.0\n",
       " 765       1    0  51.00      1      0   77.9583         1         50.0\n",
       " 429       3    0  32.00      0      0    8.0500         1         30.0\n",
       " 197       3    0  42.00      0      1    8.4042         1         40.0\n",
       " 616       3    0  34.00      1      1   14.4000         1         30.0\n",
       " 443       2    0  28.00      0      0   13.0000         1         20.0\n",
       " 106       3    0  21.00      0      0    7.6500         1         20.0\n",
       " 249       2    0  54.00      1      0   26.0000         1         50.0\n",
       " 394       3    0  24.00      0      2   16.7000         1         20.0\n",
       " 785       3    0  25.00      0      0    7.2500         1         20.0\n",
       " 322       2    0  30.00      0      0   12.3500         3         30.0\n",
       " 35        1    0  42.00      1      0   52.0000         1         40.0\n",
       " 469       3    0   0.75      2      1   19.2583         2          0.0\n",
       " 202       3    0  34.00      0      0    6.4958         1         30.0\n",
       " 290       1    0  26.00      0      0   78.8500         1         20.0\n",
       " 479       3    0   2.00      0      1   12.2875         1          0.0\n",
       " 316       2    0  24.00      1      0   26.0000         1         20.0\n",
       " 872       1    0  33.00      0      0    5.0000         1         30.0\n",
       " 148       2    0  36.50      0      2   26.0000         1         30.0\n",
       " 614       3    0  35.00      0      0    8.0500         1         30.0\n",
       " 465       3    0  38.00      0      0    7.0500         1         30.0\n",
       " 266       3    0  16.00      4      1   39.6875         1         10.0\n",
       " 54        1    0  65.00      0      1   61.9792         2         60.0\n",
       " 521       3    0  22.00      0      0    7.8958         1         20.0\n",
       " 246       3    0  25.00      0      0    7.7750         1         20.0\n",
       " 642       3    0   2.00      3      2   27.9000         1          0.0\n",
       " 114       3    0  17.00      0      0   14.4583         2         10.0\n",
       " \n",
       " [534 rows x 8 columns],\n",
       "      Pclass  Sex   Age  SibSp  Parch      Fare  Embarked  Binned_Ages\n",
       " 591       1    0  52.0      1      0   78.2667         2         50.0\n",
       " 477       3    0  29.0      1      0    7.0458         1         20.0\n",
       " 178       2    0  30.0      0      0   13.0000         1         30.0\n",
       " 664       3    0  20.0      1      0    7.9250         1         20.0\n",
       " 705       2    0  39.0      0      0   26.0000         1         30.0\n",
       " 383       1    0  35.0      1      0   52.0000         1         30.0\n",
       " 283       3    0  19.0      0      0    8.0500         1         10.0\n",
       " 216       3    0  27.0      0      0    7.9250         1         20.0\n",
       " 707       1    0  42.0      0      0   26.2875         1         40.0\n",
       " 41        2    0  27.0      1      0   21.0000         1         20.0\n",
       " 801       2    0  31.0      1      1   26.2500         1         30.0\n",
       " 858       3    0  24.0      0      3   19.2583         2         20.0\n",
       " 504       1    0  16.0      0      0   86.5000         1         10.0\n",
       " 806       1    0  39.0      0      0    0.0000         1         30.0\n",
       " 476       2    0  34.0      1      0   21.0000         1         30.0\n",
       " 206       3    0  32.0      1      0   15.8500         1         30.0\n",
       " 327       2    0  36.0      0      0   13.0000         1         30.0\n",
       " 744       3    0  31.0      0      0    7.9250         1         30.0\n",
       " 92        1    0  46.0      1      0   61.1750         1         40.0\n",
       " 722       2    0  34.0      0      0   13.0000         1         30.0\n",
       " 307       1    0  17.0      1      0  108.9000         2         10.0\n",
       " 242       2    0  29.0      0      0   10.5000         1         20.0\n",
       " 866       2    0  27.0      1      0   13.8583         2         20.0\n",
       " 79        3    0  30.0      0      0   12.4750         1         30.0\n",
       " 174       1    0  56.0      0      0   30.6958         2         50.0\n",
       " 204       3    0  18.0      0      0    8.0500         1         10.0\n",
       " 170       1    0  61.0      0      0   33.5000         1         60.0\n",
       " 713       3    0  29.0      0      0    9.4833         1         20.0\n",
       " 167       3    0  45.0      1      4   27.9000         1         40.0\n",
       " 733       2    0  23.0      0      0   13.0000         1         20.0\n",
       " ..      ...  ...   ...    ...    ...       ...       ...          ...\n",
       " 103       3    0  33.0      0      0    8.6542         1         30.0\n",
       " 879       1    0  56.0      0      1   83.1583         2         50.0\n",
       " 772       2    0  57.0      0      0   10.5000         1         50.0\n",
       " 145       2    0  19.0      1      1   36.7500         1         10.0\n",
       " 704       3    0  26.0      1      0    7.8542         1         20.0\n",
       " 805       3    0  31.0      0      0    7.7750         1         30.0\n",
       " 282       3    0  16.0      0      0    9.5000         1         10.0\n",
       " 403       3    0  28.0      1      0   15.8500         1         20.0\n",
       " 255       3    0  29.0      0      2   15.2458         2         20.0\n",
       " 630       1    0  80.0      0      0   30.0000         1         80.0\n",
       " 183       2    0   1.0      2      1   39.0000         1          0.0\n",
       " 276       3    0  45.0      0      0    7.7500         1         40.0\n",
       " 177       1    0  50.0      0      0   28.7125         2         50.0\n",
       " 590       3    0  35.0      0      0    7.1250         1         30.0\n",
       " 355       3    0  28.0      0      0    9.5000         1         20.0\n",
       " 745       1    0  70.0      1      1   71.0000         1         70.0\n",
       " 543       2    0  32.0      1      0   26.0000         1         30.0\n",
       " 311       1    0  18.0      2      2  262.3750         2         10.0\n",
       " 370       1    0  25.0      1      0   55.4417         2         20.0\n",
       " 135       2    0  23.0      0      0   15.0458         2         20.0\n",
       " 813       3    0   6.0      4      2   31.2750         1          0.0\n",
       " 514       3    0  24.0      0      0    7.4958         1         20.0\n",
       " 618       2    0   4.0      2      1   39.0000         1          0.0\n",
       " 545       1    0  64.0      0      0   26.0000         1         60.0\n",
       " 696       3    0  44.0      0      0    8.0500         1         40.0\n",
       " 536       1    0  45.0      0      0   26.5500         1         40.0\n",
       " 865       2    0  42.0      0      0   13.0000         1         40.0\n",
       " 233       3    0   5.0      4      2   31.3875         1          0.0\n",
       " 447       1    0  34.0      0      0   26.5500         1         30.0\n",
       " 315       3    0  26.0      0      0    7.8542         1         20.0\n",
       " \n",
       " [178 rows x 8 columns],\n",
       " 848    0\n",
       " 116    0\n",
       " 39     1\n",
       " 387    1\n",
       " 472    1\n",
       " 537    1\n",
       " 509    1\n",
       " 326    0\n",
       " 749    0\n",
       " 52     1\n",
       " 867    0\n",
       " 57     0\n",
       " 2      1\n",
       " 58     1\n",
       " 882    0\n",
       " 644    1\n",
       " 523    1\n",
       " 33     0\n",
       " 665    0\n",
       " 562    0\n",
       " 677    1\n",
       " 885    0\n",
       " 75     0\n",
       " 838    1\n",
       " 397    0\n",
       " 824    0\n",
       " 422    0\n",
       " 670    1\n",
       " 123    1\n",
       " 492    0\n",
       "       ..\n",
       " 453    1\n",
       " 393    1\n",
       " 775    0\n",
       " 566    0\n",
       " 765    1\n",
       " 429    1\n",
       " 197    0\n",
       " 616    0\n",
       " 443    1\n",
       " 106    1\n",
       " 249    0\n",
       " 394    1\n",
       " 785    0\n",
       " 322    1\n",
       " 35     0\n",
       " 469    1\n",
       " 202    0\n",
       " 290    1\n",
       " 479    1\n",
       " 316    1\n",
       " 872    0\n",
       " 148    0\n",
       " 614    0\n",
       " 465    0\n",
       " 266    0\n",
       " 54     0\n",
       " 521    0\n",
       " 246    0\n",
       " 642    0\n",
       " 114    0\n",
       " Name: Survived, Length: 534, dtype: int64,\n",
       " 591    1\n",
       " 477    0\n",
       " 178    0\n",
       " 664    1\n",
       " 705    0\n",
       " 383    1\n",
       " 283    1\n",
       " 216    1\n",
       " 707    1\n",
       " 41     0\n",
       " 801    1\n",
       " 858    1\n",
       " 504    1\n",
       " 806    0\n",
       " 476    0\n",
       " 206    0\n",
       " 327    1\n",
       " 744    1\n",
       " 92     0\n",
       " 722    0\n",
       " 307    1\n",
       " 242    0\n",
       " 866    1\n",
       " 79     1\n",
       " 174    0\n",
       " 204    1\n",
       " 170    0\n",
       " 713    0\n",
       " 167    0\n",
       " 733    0\n",
       "       ..\n",
       " 103    0\n",
       " 879    1\n",
       " 772    0\n",
       " 145    0\n",
       " 704    0\n",
       " 805    0\n",
       " 282    0\n",
       " 403    0\n",
       " 255    1\n",
       " 630    1\n",
       " 183    1\n",
       " 276    0\n",
       " 177    0\n",
       " 590    0\n",
       " 355    0\n",
       " 745    0\n",
       " 543    1\n",
       " 311    1\n",
       " 370    1\n",
       " 135    0\n",
       " 813    0\n",
       " 514    0\n",
       " 618    1\n",
       " 545    0\n",
       " 696    0\n",
       " 536    0\n",
       " 865    1\n",
       " 233    1\n",
       " 447    1\n",
       " 315    1\n",
       " Name: Survived, Length: 178, dtype: int64]"
      ]
     },
     "execution_count": 189,
     "metadata": {},
     "output_type": "execute_result"
    }
   ],
   "source": [
    "def bin_ages(age_column):\n",
    "    x = []\n",
    "    for age in age_column:\n",
    "        x.append((age // 10) * 10)\n",
    "    return np.array(x)\n",
    "\n",
    "\n",
    "clean_df['Binned_Ages'] = bin_ages(clean_df['Age'])\n",
    "\n",
    "split_last = train_test_split(clean_df, multinomial_nb_labels)\n",
    "mnb_X_train, mnb_X_test, mnb_y_train, mnb_y_test = split_last[0], split_last[1], split_last[2], split_last[3]\n",
    "split_last"
   ]
  },
  {
   "cell_type": "markdown",
   "metadata": {},
   "source": [
    "In the cell below:\n",
    "\n",
    "1. Create a `MultinomialNB` object.\n",
    "1. `fit()` the classifier using the appropriate training data and labels.\n",
    "1. `predict()` the outcome of the passengers in `mnb_X_test`.\n",
    "1. Use `accuracy_score()` with our predictions and the ground-truth labels in `mnb_y_test` to determine our classifier's accuracy."
   ]
  },
  {
   "cell_type": "code",
   "execution_count": 190,
   "metadata": {},
   "outputs": [
    {
     "name": "stdout",
     "output_type": "stream",
     "text": [
      "Testing Accuracy for Titanic Dataset with Multinomial Naive Bayesian Classifier: 71.91%\n"
     ]
    }
   ],
   "source": [
    "mnb_clf = MultinomialNB()\n",
    "mnb_clf.fit(mnb_X_train, mnb_y_train)\n",
    "mnb_preds = mnb_clf.predict(mnb_X_test)\n",
    "mnb_testing_accuracy = accuracy_score(mnb_y_test, mnb_preds)\n",
    "\n",
    "print(\"Testing Accuracy for Titanic Dataset with Multinomial Naive Bayesian Classifier: {:.4}%\".format(mnb_testing_accuracy * 100))"
   ]
  },
  {
   "cell_type": "markdown",
   "metadata": {},
   "source": [
    "### Conclusion\n",
    "\n",
    "In this lab, we learned:\n",
    "\n",
    "* Why we use naive Bayesian Classification, and why non-naive bayesian classification is impractical.\n",
    "* How to select and correctly use `GaussianNB`, `BernoulliNB`, and `MultinomialNB` based on the distribution of the data. \n",
    "* Best practices for feature engineering when using using each flavor of Naive Bayesian Classifier.  "
   ]
  },
  {
   "cell_type": "code",
   "execution_count": null,
   "metadata": {},
   "outputs": [],
   "source": []
  }
 ],
 "metadata": {
  "kernelspec": {
   "display_name": "Python 3",
   "language": "python",
   "name": "python3"
  },
  "language_info": {
   "codemirror_mode": {
    "name": "ipython",
    "version": 3
   },
   "file_extension": ".py",
   "mimetype": "text/x-python",
   "name": "python",
   "nbconvert_exporter": "python",
   "pygments_lexer": "ipython3",
   "version": "3.6.5"
  }
 },
 "nbformat": 4,
 "nbformat_minor": 2
}
